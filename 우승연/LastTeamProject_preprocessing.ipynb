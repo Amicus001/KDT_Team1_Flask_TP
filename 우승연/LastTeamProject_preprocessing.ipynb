{
 "cells": [
  {
   "cell_type": "code",
   "execution_count": 2,
   "metadata": {},
   "outputs": [],
   "source": [
    "import sklearn as sklearn\n",
    "import pandas as pd\n",
    "from PIL import Image\n",
    "import numpy as np\n",
    "import os"
   ]
  },
  {
   "cell_type": "code",
   "execution_count": 3,
   "metadata": {},
   "outputs": [],
   "source": [
    "def img_rotate(input_path, output_path, rotation_angle=45, resize_dims = None):\n",
    "    #open image\n",
    "    with Image.open(input_path) as img:\n",
    "        #rotate\n",
    "        rotated = img.rotate(rotation_angle)\n",
    "        #resize\n",
    "        if resize_dims:\n",
    "            resized = rotated.resize(resize_dims)\n",
    "        else:\n",
    "            resized = rotated\n",
    "        #save image\n",
    "        rotated.save(output_path)"
   ]
  },
  {
   "cell_type": "code",
   "execution_count": 16,
   "metadata": {},
   "outputs": [],
   "source": [
    "imagepath = './TrashType_Image_Dataset/general_trash/'\n",
    "output_folder = './TrashType_Image_Dataset/general_trash_edited/'\n",
    "\n",
    "#이미지 변형하기\n",
    "for filename in os.listdir(imagepath):\n",
    "    if filename.endswith('.jpg'):\n",
    "        input_path = os.path.join(imagepath,filename)\n",
    "        output_path = os.path.join(output_folder,filename)\n",
    "\n",
    "        #rotate images\n",
    "        img_rotate(input_path=input_path, output_path=output_path, rotation_angle=90, resize_dims=None)\n"
   ]
  },
  {
   "cell_type": "code",
   "execution_count": 14,
   "metadata": {},
   "outputs": [],
   "source": [
    "from PIL import ImageEnhance\n",
    "def img_enhance(input_path, output_path, enhancer_factor):\n",
    "    #open image\n",
    "    with Image.open(input_path) as img:\n",
    "        #enhance\n",
    "        enhancer = ImageEnhance.Color(img)\n",
    "        enhanced = enhancer.enhance(enhancer_factor)\n",
    "        #save img\n",
    "        # filename, file_extension = os.path.splittext(os.path.basename(input_path))\n",
    "        # output_filename = f'{filename}_enhanced{file_extension}'\n",
    "        #output_fullpath = os.path.join(output_path, output_filename)\n",
    "\n",
    "        enhanced.save(output_path)"
   ]
  },
  {
   "cell_type": "code",
   "execution_count": 15,
   "metadata": {},
   "outputs": [],
   "source": [
    "for filename in os.listdir(imagepath):\n",
    "    if filename.endswith('.jpg'):\n",
    "        input_path = os.path.join(imagepath,filename)\n",
    "        output_path = os.path.join(output_folder,filename)\n",
    "\n",
    "        img_enhance(input_path=input_path, output_path=output_path, enhancer_factor=3.2)"
   ]
  },
  {
   "cell_type": "code",
   "execution_count": 17,
   "metadata": {},
   "outputs": [],
   "source": [
    "imagepath = './TrashType_Image_Dataset/general_trash/'\n",
    "output_folder = './TrashType_Image_Dataset/general_trash_edited/'\n",
    "\n",
    "#이미지 변형하기\n",
    "for filename in os.listdir(imagepath):\n",
    "    if filename.endswith('.jpg'):\n",
    "        input_path = os.path.join(imagepath,filename)\n",
    "        output_path = os.path.join(output_folder,filename)\n",
    "\n",
    "        #rotate images\n",
    "        img_rotate(input_path=input_path, output_path=output_path, rotation_angle=90, resize_dims=None)"
   ]
  },
  {
   "cell_type": "code",
   "execution_count": 20,
   "metadata": {},
   "outputs": [],
   "source": [
    "def brighten(input_path, output_path, enhancer_factor=2):\n",
    "    with Image.open(input_path) as img:\n",
    "        #enhance\n",
    "        enhancer = ImageEnhance.Brightness(img)\n",
    "        brightened = enhancer.enhance(enhancer_factor)\n",
    "        \n",
    "        #save img\n",
    "        brightened.save(output_path)"
   ]
  },
  {
   "cell_type": "code",
   "execution_count": 22,
   "metadata": {},
   "outputs": [],
   "source": [
    "imagepath = './TrashType_Image_Dataset/original_image/'\n",
    "output_folder = './TrashType_Image_Dataset/general_trash_edited/'\n",
    "\n",
    "for filename in os.listdir(imagepath):\n",
    "    if filename.endswith('.jpg'):\n",
    "        input_path = os.path.join(imagepath,filename)\n",
    "        output_path = os.path.join(output_folder,filename)\n",
    "\n",
    "        brighten(input_path=input_path, output_path=output_path, enhancer_factor=2)"
   ]
  },
  {
   "cell_type": "code",
   "execution_count": 23,
   "metadata": {},
   "outputs": [],
   "source": [
    "def flip_images(input_folder, output_folder):\n",
    "    # create output folder if not exists\n",
    "    if not os.path.exists(output_folder):\n",
    "        os.makedirs(output_folder)\n",
    "    \n",
    "    # loop through all image files in the input folder\n",
    "    for filename in os.listdir(input_folder):\n",
    "        if filename.endswith(('.jpg', '.jpeg', '.png')):  # image file formats\n",
    "            input_path = os.path.join(input_folder, filename)\n",
    "            \n",
    "            # open image\n",
    "            with Image.open(input_path) as img:\n",
    "                # flip image left to right\n",
    "                flipped_image = img.transpose(Image.FLIP_LEFT_RIGHT)\n",
    "                \n",
    "                # save flipped image with the same filename\n",
    "                output_path = os.path.join(output_folder, filename)\n",
    "                flipped_image.save(output_path)"
   ]
  },
  {
   "cell_type": "code",
   "execution_count": 24,
   "metadata": {},
   "outputs": [],
   "source": [
    "\n",
    "# input and output folders\n",
    "input_folder = imagepath\n",
    "output_folder = output_folder\n",
    "\n",
    "# flip images in the input folder and save to the output folder\n",
    "flip_images(input_folder, output_folder)"
   ]
  },
  {
   "cell_type": "code",
   "execution_count": null,
   "metadata": {},
   "outputs": [],
   "source": []
  }
 ],
 "metadata": {
  "kernelspec": {
   "display_name": "NLP_38",
   "language": "python",
   "name": "python3"
  },
  "language_info": {
   "codemirror_mode": {
    "name": "ipython",
    "version": 3
   },
   "file_extension": ".py",
   "mimetype": "text/x-python",
   "name": "python",
   "nbconvert_exporter": "python",
   "pygments_lexer": "ipython3",
   "version": "3.8.19"
  }
 },
 "nbformat": 4,
 "nbformat_minor": 2
}
